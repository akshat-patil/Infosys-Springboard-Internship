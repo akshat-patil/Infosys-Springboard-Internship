{
 "cells": [
  {
   "cell_type": "code",
   "execution_count": 4,
   "id": "6889ff03",
   "metadata": {},
   "outputs": [
    {
     "name": "stdout",
     "output_type": "stream",
     "text": [
      "Enter a paragraph to summarize: NEW DELHI, Nov 29 (Reuters) - India has issued a notice to German automaker Volkswagen for allegedly evading $1.4 billion in taxes by \"wilfully\" paying lesser import tax on components for its Audi, VW and Skoda cars, a document shows, in what is one of the biggest such demands. A notice dated Sept. 30 says Volkswagen (VOWG_p.DE), opens new tab used to import \"almost the entire\" car in unassembled condition - which attracts a 30-35% import tax in India under rules for CKD, or completely knocked down units, but evaded levies by \"mis-declaring and mis-classifying\" those imports as \"individual parts\", paying just a 5-15% duty. Such imports were made by Volkswagen's India unit, Skoda Auto Volkswagen India, for its models including the Skoda Superb and Kodiaq, luxury cars like Audi A4 and Q5, and VW's Tiguan SUV. Different shipment consignments were used to evade detection and \"willfully evade payment\" of higher taxes, the Indian investigation found. \"This logistical arrangement is an artificial arrangement ... operating structure is nothing but a ploy to clear the goods without the payment of the applicable duty,\" said the 95-page notice by the Office of the Commissioner of Customs in Maharashtra, which is not public but was seen by Reuters. Volkswagen shares fell as much as 2.13% on the Frankfurt stock exchange after Reuters reported the India tax notice. Since 2012, Volkswagen's India unit should have paid import taxes and several other related levies of about $2.35 billion to the Indian government, but paid only $981 million, amounting to a shortfall of $1.36 billion, the authority said. In a statement, Skoda Auto Volkswagen India said it is a \"responsible organization, fully complying with all global and local laws and regulations. We are analyzing the notice and extending our full cooperation to the authorities.\"\n",
      "\n",
      "Generated Summary:\n",
      "India issues a notice to German automaker Volkswagen for allegedly evading $1.4 billion in taxes. It says VW paid lesser import tax on components for its Audi, VW and Skoda cars, a document shows. Volkswagen shares fell as much as 2.13% on the Frankfurt stock exchange after Reuters reported the India tax notice.\n"
     ]
    }
   ],
   "source": [
    "from transformers import BartForConditionalGeneration, BartTokenizer\n",
    "\n",
    "# Load the saved model and tokenizer\n",
    "model = BartForConditionalGeneration.from_pretrained(\"C:/Users/91862/Desktop/Text_Sum_Infosys/saved_model\")\n",
    "tokenizer = BartTokenizer.from_pretrained(\"C:/Users/91862/Desktop/Text_Sum_Infosys/saved_model\")\n",
    "\n",
    "# Function to generate summary\n",
    "def generate_summary(user_input):\n",
    "    # Tokenize input\n",
    "    inputs = tokenizer(user_input, return_tensors='pt', truncation=True, padding='max_length', max_length=1024).to(model.device)\n",
    "\n",
    "    # Generate the summary\n",
    "    summary_ids = model.generate(inputs['input_ids'], attention_mask=inputs['attention_mask'], max_length=150)\n",
    "    \n",
    "    # Decode and return summary\n",
    "    summary = tokenizer.decode(summary_ids[0], skip_special_tokens=True)\n",
    "    return summary\n",
    "\n",
    "# Example usage\n",
    "user_input = input(\"Enter a paragraph to summarize: \")\n",
    "summary = generate_summary(user_input)\n",
    "print(\"\\nGenerated Summary:\")\n",
    "print(summary)\n"
   ]
  },
  {
   "cell_type": "code",
   "execution_count": null,
   "id": "8e69796a",
   "metadata": {},
   "outputs": [],
   "source": []
  }
 ],
 "metadata": {
  "kernelspec": {
   "display_name": "Python 3 (ipykernel)",
   "language": "python",
   "name": "python3"
  },
  "language_info": {
   "codemirror_mode": {
    "name": "ipython",
    "version": 3
   },
   "file_extension": ".py",
   "mimetype": "text/x-python",
   "name": "python",
   "nbconvert_exporter": "python",
   "pygments_lexer": "ipython3",
   "version": "3.10.9"
  }
 },
 "nbformat": 4,
 "nbformat_minor": 5
}
